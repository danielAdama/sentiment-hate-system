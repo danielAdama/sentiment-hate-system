{
 "cells": [
  {
   "cell_type": "code",
   "execution_count": 1,
   "id": "50473e9d",
   "metadata": {},
   "outputs": [],
   "source": [
    "import mlflow\n",
    "from mlflow.tracking import MlflowClient\n",
    "from mlflow.entities import ViewType\n",
    "from datetime import datetime\n",
    "import joblib\n",
    "import os\n",
    "import sys\n",
    "sys.path.append(os.path.abspath('..'))\n",
    "from download import local_download"
   ]
  },
  {
   "cell_type": "code",
   "execution_count": 18,
   "id": "68f0cfeb",
   "metadata": {},
   "outputs": [
    {
     "data": {
      "text/plain": [
       "'/home/daniel/programming/NLP/sentiment-hate-system/src'"
      ]
     },
     "execution_count": 18,
     "metadata": {},
     "output_type": "execute_result"
    }
   ],
   "source": [
    "# os.path.abspath('..')"
   ]
  },
  {
   "cell_type": "code",
   "execution_count": 2,
   "id": "0906533a",
   "metadata": {},
   "outputs": [
    {
     "name": "stdout",
     "output_type": "stream",
     "text": [
      "http://127.0.0.1:5000\n",
      "2\n"
     ]
    }
   ],
   "source": [
    "EXPERIMENT_NAME = \"sentiment-hate-experiment\"\n",
    "TRACKING_URI = 'http://127.0.0.1:5000'\n",
    "\n",
    "mlflow.set_tracking_uri(TRACKING_URI)\n",
    "client = MlflowClient()\n",
    "experiment_id = client.get_experiment_by_name(EXPERIMENT_NAME).experiment_id\n",
    "\n",
    "print(mlflow.get_tracking_uri())\n",
    "print(experiment_id)"
   ]
  },
  {
   "cell_type": "code",
   "execution_count": 3,
   "id": "e7f8b48d",
   "metadata": {},
   "outputs": [
    {
     "data": {
      "text/plain": [
       "[<Experiment: artifact_location='./artifacts/2', creation_time=1665562946949, experiment_id='2', last_update_time=1665562946949, lifecycle_stage='active', name='sentiment-hate-experiment', tags={}>,\n",
       " <Experiment: artifact_location='./artifacts/0', creation_time=None, experiment_id='0', last_update_time=None, lifecycle_stage='active', name='Default', tags={}>]"
      ]
     },
     "execution_count": 3,
     "metadata": {},
     "output_type": "execute_result"
    }
   ],
   "source": [
    "client.search_experiments()"
   ]
  },
  {
   "cell_type": "markdown",
   "id": "0cfccec9",
   "metadata": {},
   "source": [
    "# List all logged models"
   ]
  },
  {
   "cell_type": "code",
   "execution_count": 4,
   "id": "fd71ce61",
   "metadata": {},
   "outputs": [
    {
     "name": "stdout",
     "output_type": "stream",
     "text": [
      "run id: 3032198944464d1d99afb894f020b9a5, misclass: 5.4542, test auc: 0.9830 train auc: 0.9968\n",
      "run id: c46b3478a7a947668cbb849f52c2b89c, misclass: 5.3661, test auc: 0.9830 train auc: 0.9968\n",
      "run id: bb62c33eeee04474b8b389e38734e37f, misclass: 5.3837, test auc: 0.9830 train auc: 0.9968\n",
      "run id: 3bff3d4e681b4574872d26ecb645173a, misclass: 5.2251, test auc: 0.9831 train auc: 0.9972\n"
     ]
    }
   ],
   "source": [
    "runs = client.search_runs(\n",
    "    experiment_ids=\"2\",\n",
    "    filter_string=\"\",\n",
    "    run_view_type=ViewType.ACTIVE_ONLY,\n",
    "    max_results=4,\n",
    "#     order_by=[\"metrics.test-auc-score ASC\"]\n",
    ")\n",
    "\n",
    "for run in runs:\n",
    "    print(f\"run id: {run.info.run_id}, misclass: {float(run.data.params['percent-misclassified']):.4f}, test auc: {run.data.metrics['test-auc-score']:.4f} train auc: {run.data.metrics['train-auc-score']:.4f}\")"
   ]
  },
  {
   "cell_type": "code",
   "execution_count": 5,
   "id": "e0f29151",
   "metadata": {},
   "outputs": [
    {
     "data": {
      "text/plain": [
       "[]"
      ]
     },
     "execution_count": 5,
     "metadata": {},
     "output_type": "execute_result"
    }
   ],
   "source": [
    "client.search_registered_models()"
   ]
  },
  {
   "cell_type": "code",
   "execution_count": 6,
   "id": "a6333f11",
   "metadata": {},
   "outputs": [
    {
     "name": "stderr",
     "output_type": "stream",
     "text": [
      "/tmp/ipykernel_9612/540392019.py:1: FutureWarning: ``mlflow.tracking.client.MlflowClient.list_run_infos`` is deprecated. This method will be removed in a future release. Use ``search_runs()`` instead.\n",
      "  client.list_run_infos(experiment_id=experiment_id)[0].run_id\n"
     ]
    },
    {
     "data": {
      "text/plain": [
       "'3032198944464d1d99afb894f020b9a5'"
      ]
     },
     "execution_count": 6,
     "metadata": {},
     "output_type": "execute_result"
    }
   ],
   "source": [
    "client.list_run_infos(experiment_id=experiment_id)[0].run_id"
   ]
  },
  {
   "cell_type": "markdown",
   "id": "ca7c0d09",
   "metadata": {},
   "source": [
    "# Register Model"
   ]
  },
  {
   "cell_type": "code",
   "execution_count": 5,
   "id": "45f00f44",
   "metadata": {},
   "outputs": [],
   "source": [
    "# Register Model\n",
    "run_id = \"3bff3d4e681b4574872d26ecb645173a\"\n",
    "model_uri = f\"runs:/{run_id}/models\"\n",
    "mlflow.register_model(model_uri=model_uri, name=\"sentiment-hate-classifier\")"
   ]
  },
  {
   "cell_type": "code",
   "execution_count": 6,
   "id": "57f3ca03",
   "metadata": {},
   "outputs": [
    {
     "data": {
      "text/plain": [
       "[<RegisteredModel: creation_timestamp=1665704332409, description=(\"This model detects the hate in a twitter's text. The data consists of a \"\n",
       "  'feature: Tweet.'), last_updated_timestamp=1665716817535, latest_versions=[<ModelVersion: creation_timestamp=1665706048896, current_stage='None', description='', last_updated_timestamp=1665706048896, name='sentiment-hate-classifier', run_id='bb62c33eeee04474b8b389e38734e37f', run_link='', source='./artifacts/2/bb62c33eeee04474b8b389e38734e37f/artifacts/models', status='READY', status_message='', tags={}, user_id='', version='3'>,\n",
       "  <ModelVersion: creation_timestamp=1665706033511, current_stage='Staging', description='The model version 2 was transitioned to Staging on 2022-10-13', last_updated_timestamp=1665708973557, name='sentiment-hate-classifier', run_id='c46b3478a7a947668cbb849f52c2b89c', run_link='', source='./artifacts/2/c46b3478a7a947668cbb849f52c2b89c/artifacts/models', status='READY', status_message='', tags={}, user_id='', version='2'>,\n",
       "  <ModelVersion: creation_timestamp=1665706066384, current_stage='Production', description='The model version 4 was moved to Production on 2022-10-13', last_updated_timestamp=1665716817619, name='sentiment-hate-classifier', run_id='3bff3d4e681b4574872d26ecb645173a', run_link='', source='./artifacts/2/3bff3d4e681b4574872d26ecb645173a/artifacts/models', status='READY', status_message='', tags={}, user_id='', version='4'>], name='sentiment-hate-classifier', tags={}>]"
      ]
     },
     "execution_count": 6,
     "metadata": {},
     "output_type": "execute_result"
    }
   ],
   "source": [
    "client.search_registered_models()"
   ]
  },
  {
   "cell_type": "markdown",
   "id": "98d4e187",
   "metadata": {},
   "source": [
    "# Update the description of Registered Model"
   ]
  },
  {
   "cell_type": "code",
   "execution_count": 6,
   "id": "aa44bec1",
   "metadata": {},
   "outputs": [
    {
     "data": {
      "text/plain": [
       "<RegisteredModel: creation_timestamp=1665704332409, description=(\"This model detects the hate in a twitter's text. The data consists of a \"\n",
       " 'feature: Tweet.'), last_updated_timestamp=1665705096730, latest_versions=[<ModelVersion: creation_timestamp=1665704332492, current_stage='None', description='', last_updated_timestamp=1665704332492, name='sentiment-hate-classifier', run_id='3032198944464d1d99afb894f020b9a5', run_link='', source='./artifacts/2/3032198944464d1d99afb894f020b9a5/artifacts/models', status='READY', status_message='', tags={}, user_id='', version='1'>], name='sentiment-hate-classifier', tags={}>"
      ]
     },
     "execution_count": 6,
     "metadata": {},
     "output_type": "execute_result"
    }
   ],
   "source": [
    "client.update_registered_model(\n",
    "  name=\"sentiment-hate-classifier\",\n",
    "  description=\"This model detects the hate in a twitter's text. The data consists of a feature: Tweet.\"\n",
    ")"
   ]
  },
  {
   "cell_type": "code",
   "execution_count": 24,
   "id": "f2059566",
   "metadata": {},
   "outputs": [
    {
     "name": "stdout",
     "output_type": "stream",
     "text": [
      "version: 4, stage: None\n"
     ]
    }
   ],
   "source": [
    "latest_versions = client.get_latest_versions(name=\"sentiment-hate-classifier\")\n",
    "print(f\"version: {latest_versions[0].version}, stage: {latest_versions[0].current_stage}\")"
   ]
  },
  {
   "cell_type": "code",
   "execution_count": 27,
   "id": "14a72e38",
   "metadata": {},
   "outputs": [
    {
     "name": "stdout",
     "output_type": "stream",
     "text": [
      "version: 4, stage: None\n"
     ]
    }
   ],
   "source": [
    "for v in latest_versions:\n",
    "    print(f\"version: {v.version}, stage: {v.current_stage}\")"
   ]
  },
  {
   "cell_type": "markdown",
   "id": "e2278632",
   "metadata": {},
   "source": [
    "# Transition model to Staging"
   ]
  },
  {
   "cell_type": "code",
   "execution_count": 36,
   "id": "e179abad",
   "metadata": {},
   "outputs": [
    {
     "data": {
      "text/plain": [
       "<ModelVersion: creation_timestamp=1665706066384, current_stage='Staging', description='The model version 4 was transitioned to Staging on 2022-10-13', last_updated_timestamp=1665708980147, name='sentiment-hate-classifier', run_id='3bff3d4e681b4574872d26ecb645173a', run_link='', source='./artifacts/2/3bff3d4e681b4574872d26ecb645173a/artifacts/models', status='READY', status_message='', tags={}, user_id='', version='4'>"
      ]
     },
     "execution_count": 36,
     "metadata": {},
     "output_type": "execute_result"
    }
   ],
   "source": [
    "model_name=\"sentiment-hate-classifier\"\n",
    "model_version=4\n",
    "# Transition model version stage\n",
    "client.transition_model_version_stage(name=model_name,\n",
    "                                      version=model_version,\n",
    "                                      stage='Staging',\n",
    "                                      archive_existing_versions=False)"
   ]
  },
  {
   "cell_type": "code",
   "execution_count": 37,
   "id": "a353902b",
   "metadata": {},
   "outputs": [
    {
     "data": {
      "text/plain": [
       "<ModelVersion: creation_timestamp=1665706066384, current_stage='Staging', description='The model version 4 was transitioned to Staging on 2022-10-13', last_updated_timestamp=1665708982214, name='sentiment-hate-classifier', run_id='3bff3d4e681b4574872d26ecb645173a', run_link='', source='./artifacts/2/3bff3d4e681b4574872d26ecb645173a/artifacts/models', status='READY', status_message='', tags={}, user_id='', version='4'>"
      ]
     },
     "execution_count": 37,
     "metadata": {},
     "output_type": "execute_result"
    }
   ],
   "source": [
    "client.update_model_version(name=model_name,\n",
    "                            version=model_version,\n",
    "                            description=f\"The model version {model_version} was transitioned to Staging on {datetime.today().date()}\")"
   ]
  },
  {
   "cell_type": "code",
   "execution_count": 38,
   "id": "1c698a14",
   "metadata": {},
   "outputs": [
    {
     "data": {
      "text/plain": [
       "<ModelVersion: creation_timestamp=1665706066384, current_stage='Production', description='The model version 4 was moved to Production on 2022-10-13', last_updated_timestamp=1665716817619, name='sentiment-hate-classifier', run_id='3bff3d4e681b4574872d26ecb645173a', run_link='', source='./artifacts/2/3bff3d4e681b4574872d26ecb645173a/artifacts/models', status='READY', status_message='', tags={}, user_id='', version='4'>"
      ]
     },
     "execution_count": 38,
     "metadata": {},
     "output_type": "execute_result"
    }
   ],
   "source": [
    "client.transition_model_version_stage(name=model_name,\n",
    "                                      version=model_version,\n",
    "                                      stage='Production',\n",
    "                                      archive_existing_versions=False)\n",
    "client.update_model_version(name=model_name,\n",
    "                            version=model_version,\n",
    "                            description=f\"The model version {model_version} was moved to Production on {datetime.today().date()}\")"
   ]
  },
  {
   "cell_type": "code",
   "execution_count": 3,
   "id": "75c57d74",
   "metadata": {},
   "outputs": [],
   "source": [
    "# Load model model in production\n",
    "run_id = \"3bff3d4e681b4574872d26ecb645173a\"\n",
    "print(model_uri)"
   ]
  },
  {
   "cell_type": "code",
   "execution_count": 6,
   "id": "fc8e288b",
   "metadata": {},
   "outputs": [
    {
     "data": {
      "text/plain": [
       "'runs:/3bff3d4e681b4574872d26ecb645173a/models'"
      ]
     },
     "execution_count": 6,
     "metadata": {},
     "output_type": "execute_result"
    }
   ],
   "source": [
    "model_uri"
   ]
  },
  {
   "cell_type": "code",
   "execution_count": 6,
   "id": "985fb4af",
   "metadata": {},
   "outputs": [],
   "source": [
    "model = mlflow.lightgbm.load_model(model_uri)"
   ]
  },
  {
   "cell_type": "code",
   "execution_count": 7,
   "id": "b3bc7377",
   "metadata": {},
   "outputs": [
    {
     "data": {
      "text/plain": [
       "<lightgbm.basic.Booster at 0x7f4261720ca0>"
      ]
     },
     "execution_count": 7,
     "metadata": {},
     "output_type": "execute_result"
    }
   ],
   "source": [
    "model"
   ]
  },
  {
   "cell_type": "code",
   "execution_count": 5,
   "id": "0036a23d",
   "metadata": {},
   "outputs": [
    {
     "name": "stdout",
     "output_type": "stream",
     "text": [
      "Model with run id: 3bff3d4e681b4574872d26ecb645173a has been successfully downloaded.\n"
     ]
    }
   ],
   "source": [
    "# Download registed model artifacts in your local machine\n",
    "run_id=\"3bff3d4e681b4574872d26ecb645173a\"\n",
    "model_uri=f\"runs:/{run_id}/models\"\n",
    "\n",
    "local_download.main(run_id=run_id)"
   ]
  },
  {
   "cell_type": "code",
   "execution_count": 10,
   "id": "b71e8855",
   "metadata": {},
   "outputs": [
    {
     "name": "stdout",
     "output_type": "stream",
     "text": [
      "/home/daniel/programming/NLP/sentiment-hate-system/src/artifacts\n"
     ]
    }
   ],
   "source": [
    "print(os.path.realpath(f'../artifacts'))"
   ]
  },
  {
   "cell_type": "code",
   "execution_count": 7,
   "id": "76052d5c",
   "metadata": {},
   "outputs": [
    {
     "data": {
      "text/plain": [
       "'/home/daniel/programming/NLP/sentiment-hate-system/src/artifacts/2/3bff3d4e681b4574872d26ecb645173a/'"
      ]
     },
     "execution_count": 7,
     "metadata": {},
     "output_type": "execute_result"
    }
   ],
   "source": [
    "# client.download_artifacts(run_id=run_id, path=\"\", dst_path=os.path.realpath('../artifacts/2/3bff3d4e681b4574872d26ecb645173a'))"
   ]
  },
  {
   "cell_type": "code",
   "execution_count": null,
   "id": "cc59fbf9",
   "metadata": {},
   "outputs": [],
   "source": [
    "\"./artifacts/2/3bff3d4e681b4574872d26ecb645173a/artifacts/models\""
   ]
  },
  {
   "cell_type": "code",
   "execution_count": 10,
   "id": "fdcf164e",
   "metadata": {},
   "outputs": [
    {
     "data": {
      "text/plain": [
       "'/home/daniel/programming/NLP/sentiment-hate-system/src/vectorizers/tfVectorizer'"
      ]
     },
     "execution_count": 10,
     "metadata": {},
     "output_type": "execute_result"
    }
   ],
   "source": [
    "client.download_artifacts(run_id=run_id, path=\"tfVectorizer\", dst_path=os.path.realpath('../vectorizers'))"
   ]
  },
  {
   "cell_type": "code",
   "execution_count": 13,
   "id": "0f175076",
   "metadata": {},
   "outputs": [],
   "source": [
    "vectorizer = joblib.load(open(os.path.join(os.path.realpath('../vectorizers'),f\"tfVectorizer/vectorizerV7.bin\"), \"rb\"))"
   ]
  },
  {
   "cell_type": "code",
   "execution_count": 12,
   "id": "90d45271",
   "metadata": {},
   "outputs": [
    {
     "data": {
      "text/plain": [
       "'/home/daniel/programming/NLP/sentiment-hate-system/src/vectorizers'"
      ]
     },
     "execution_count": 12,
     "metadata": {},
     "output_type": "execute_result"
    }
   ],
   "source": [
    "os.path.realpath('../vectorizers')"
   ]
  },
  {
   "cell_type": "code",
   "execution_count": 14,
   "id": "390755d0",
   "metadata": {},
   "outputs": [
    {
     "data": {
      "text/html": [
       "<style>#sk-container-id-1 {color: black;background-color: white;}#sk-container-id-1 pre{padding: 0;}#sk-container-id-1 div.sk-toggleable {background-color: white;}#sk-container-id-1 label.sk-toggleable__label {cursor: pointer;display: block;width: 100%;margin-bottom: 0;padding: 0.3em;box-sizing: border-box;text-align: center;}#sk-container-id-1 label.sk-toggleable__label-arrow:before {content: \"▸\";float: left;margin-right: 0.25em;color: #696969;}#sk-container-id-1 label.sk-toggleable__label-arrow:hover:before {color: black;}#sk-container-id-1 div.sk-estimator:hover label.sk-toggleable__label-arrow:before {color: black;}#sk-container-id-1 div.sk-toggleable__content {max-height: 0;max-width: 0;overflow: hidden;text-align: left;background-color: #f0f8ff;}#sk-container-id-1 div.sk-toggleable__content pre {margin: 0.2em;color: black;border-radius: 0.25em;background-color: #f0f8ff;}#sk-container-id-1 input.sk-toggleable__control:checked~div.sk-toggleable__content {max-height: 200px;max-width: 100%;overflow: auto;}#sk-container-id-1 input.sk-toggleable__control:checked~label.sk-toggleable__label-arrow:before {content: \"▾\";}#sk-container-id-1 div.sk-estimator input.sk-toggleable__control:checked~label.sk-toggleable__label {background-color: #d4ebff;}#sk-container-id-1 div.sk-label input.sk-toggleable__control:checked~label.sk-toggleable__label {background-color: #d4ebff;}#sk-container-id-1 input.sk-hidden--visually {border: 0;clip: rect(1px 1px 1px 1px);clip: rect(1px, 1px, 1px, 1px);height: 1px;margin: -1px;overflow: hidden;padding: 0;position: absolute;width: 1px;}#sk-container-id-1 div.sk-estimator {font-family: monospace;background-color: #f0f8ff;border: 1px dotted black;border-radius: 0.25em;box-sizing: border-box;margin-bottom: 0.5em;}#sk-container-id-1 div.sk-estimator:hover {background-color: #d4ebff;}#sk-container-id-1 div.sk-parallel-item::after {content: \"\";width: 100%;border-bottom: 1px solid gray;flex-grow: 1;}#sk-container-id-1 div.sk-label:hover label.sk-toggleable__label {background-color: #d4ebff;}#sk-container-id-1 div.sk-serial::before {content: \"\";position: absolute;border-left: 1px solid gray;box-sizing: border-box;top: 0;bottom: 0;left: 50%;z-index: 0;}#sk-container-id-1 div.sk-serial {display: flex;flex-direction: column;align-items: center;background-color: white;padding-right: 0.2em;padding-left: 0.2em;position: relative;}#sk-container-id-1 div.sk-item {position: relative;z-index: 1;}#sk-container-id-1 div.sk-parallel {display: flex;align-items: stretch;justify-content: center;background-color: white;position: relative;}#sk-container-id-1 div.sk-item::before, #sk-container-id-1 div.sk-parallel-item::before {content: \"\";position: absolute;border-left: 1px solid gray;box-sizing: border-box;top: 0;bottom: 0;left: 50%;z-index: -1;}#sk-container-id-1 div.sk-parallel-item {display: flex;flex-direction: column;z-index: 1;position: relative;background-color: white;}#sk-container-id-1 div.sk-parallel-item:first-child::after {align-self: flex-end;width: 50%;}#sk-container-id-1 div.sk-parallel-item:last-child::after {align-self: flex-start;width: 50%;}#sk-container-id-1 div.sk-parallel-item:only-child::after {width: 0;}#sk-container-id-1 div.sk-dashed-wrapped {border: 1px dashed gray;margin: 0 0.4em 0.5em 0.4em;box-sizing: border-box;padding-bottom: 0.4em;background-color: white;}#sk-container-id-1 div.sk-label label {font-family: monospace;font-weight: bold;display: inline-block;line-height: 1.2em;}#sk-container-id-1 div.sk-label-container {text-align: center;}#sk-container-id-1 div.sk-container {/* jupyter's `normalize.less` sets `[hidden] { display: none; }` but bootstrap.min.css set `[hidden] { display: none !important; }` so we also need the `!important` here to be able to override the default hidden behavior on the sphinx rendered scikit-learn.org. See: https://github.com/scikit-learn/scikit-learn/issues/21755 */display: inline-block !important;position: relative;}#sk-container-id-1 div.sk-text-repr-fallback {display: none;}</style><div id=\"sk-container-id-1\" class=\"sk-top-container\"><div class=\"sk-text-repr-fallback\"><pre>TfidfVectorizer(encoding=&#x27;latin-1&#x27;, max_features=1000, min_df=5,\n",
       "                ngram_range=(1, 2), sublinear_tf=True)</pre><b>In a Jupyter environment, please rerun this cell to show the HTML representation or trust the notebook. <br />On GitHub, the HTML representation is unable to render, please try loading this page with nbviewer.org.</b></div><div class=\"sk-container\" hidden><div class=\"sk-item\"><div class=\"sk-estimator sk-toggleable\"><input class=\"sk-toggleable__control sk-hidden--visually\" id=\"sk-estimator-id-1\" type=\"checkbox\" checked><label for=\"sk-estimator-id-1\" class=\"sk-toggleable__label sk-toggleable__label-arrow\">TfidfVectorizer</label><div class=\"sk-toggleable__content\"><pre>TfidfVectorizer(encoding=&#x27;latin-1&#x27;, max_features=1000, min_df=5,\n",
       "                ngram_range=(1, 2), sublinear_tf=True)</pre></div></div></div></div></div>"
      ],
      "text/plain": [
       "TfidfVectorizer(encoding='latin-1', max_features=1000, min_df=5,\n",
       "                ngram_range=(1, 2), sublinear_tf=True)"
      ]
     },
     "execution_count": 14,
     "metadata": {},
     "output_type": "execute_result"
    }
   ],
   "source": [
    "vectorizer"
   ]
  },
  {
   "cell_type": "code",
   "execution_count": null,
   "id": "40feb027",
   "metadata": {},
   "outputs": [],
   "source": []
  },
  {
   "cell_type": "code",
   "execution_count": null,
   "id": "6419646b",
   "metadata": {},
   "outputs": [],
   "source": []
  },
  {
   "cell_type": "code",
   "execution_count": null,
   "id": "6e2ce80c",
   "metadata": {},
   "outputs": [],
   "source": []
  },
  {
   "cell_type": "code",
   "execution_count": null,
   "id": "d7810b15",
   "metadata": {},
   "outputs": [],
   "source": []
  }
 ],
 "metadata": {
  "kernelspec": {
   "display_name": "sentiment_env",
   "language": "python",
   "name": "python3"
  },
  "language_info": {
   "codemirror_mode": {
    "name": "ipython",
    "version": 3
   },
   "file_extension": ".py",
   "mimetype": "text/x-python",
   "name": "python",
   "nbconvert_exporter": "python",
   "pygments_lexer": "ipython3",
   "version": "3.8.14"
  },
  "vscode": {
   "interpreter": {
    "hash": "bc09eb857e975e873c9551b07bace7bf8793d6af72e9231b63708f7ae802f0df"
   }
  }
 },
 "nbformat": 4,
 "nbformat_minor": 5
}
