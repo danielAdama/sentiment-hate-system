{
 "cells": [
  {
   "cell_type": "code",
   "execution_count": 1,
   "metadata": {},
   "outputs": [
    {
     "name": "stderr",
     "output_type": "stream",
     "text": [
      "/home/daniel/.local/lib/python3.8/site-packages/pkg_resources/__init__.py:116: PkgResourcesDeprecationWarning: 0.1.36ubuntu1 is an invalid version and will not be supported in a future release\n",
      "  warnings.warn(\n",
      "/home/daniel/.local/lib/python3.8/site-packages/pkg_resources/__init__.py:116: PkgResourcesDeprecationWarning: 0.23ubuntu1 is an invalid version and will not be supported in a future release\n",
      "  warnings.warn(\n"
     ]
    }
   ],
   "source": [
    "import pandas as pd\n",
    "pd.set_option('display.max_columns', None)\n",
    "import numpy as np\n",
    "import pickle\n",
    "import os\n",
    "import json\n",
    "from config import config\n",
    "import contractions\n",
    "import pickle\n",
    "import mysql.connector\n",
    "from mysql.connector import Error\n",
    "from imblearn.over_sampling import SMOTE\n",
    "from sklearn.preprocessing import StandardScaler\n",
    "from sklearn.feature_selection import f_classif, RFE\n",
    "import statsmodels.api as sm\n",
    "from sklearn.feature_extraction.text import TfidfVectorizer, CountVectorizer\n",
    "from sklearn.metrics import classification_report, precision_score, recall_score, accuracy_score,f1_score\n",
    "from sklearn.metrics import auc, average_precision_score, confusion_matrix, roc_auc_score, roc_curve\n",
    "from sklearn.naive_bayes import MultinomialNB\n",
    "from sklearn.linear_model import LogisticRegression\n",
    "from sklearn.ensemble import RandomForestClassifier\n",
    "from sklearn.tree import DecisionTreeClassifier\n",
    "from xgboost import XGBClassifier\n",
    "from sklearn.model_selection import train_test_split, GridSearchCV, StratifiedKFold\n",
    "from nltk import word_tokenize, sent_tokenize\n",
    "from nltk.corpus import stopwords\n",
    "from nltk.stem import WordNetLemmatizer\n",
    "from nltk import pos_tag\n",
    "from string import punctuation\n",
    "import re\n",
    "from wordcloud import WordCloud\n",
    "import matplotlib.pyplot as plt\n",
    "%matplotlib inline\n",
    "import seaborn as sns\n",
    "sns.set_style(\"white\")\n",
    "plt.rcParams['figure.figsize'] = (18, 5)\n",
    "import warnings\n",
    "warnings.simplefilter('ignore', FutureWarning)\n",
    "warnings.simplefilter('ignore', UserWarning)"
   ]
  },
  {
   "cell_type": "code",
   "execution_count": 2,
   "metadata": {},
   "outputs": [
    {
     "name": "stdout",
     "output_type": "stream",
     "text": [
      "Successfully connected to the database\n"
     ]
    }
   ],
   "source": [
    "class ToPandasDF():\n",
    "    def __init__(self, password, host, database, user):\n",
    "\n",
    "        self.password = password\n",
    "        self.host = host\n",
    "        self.database = database\n",
    "        self.user = user\n",
    "        \n",
    "    \n",
    "    def MySQLconnect(self, query):\n",
    "        \n",
    "        try:\n",
    "            connection = mysql.connector.connect(host=self.host, \n",
    "                                                 database=self.database, \n",
    "                                                 password=self.password,\n",
    "                                                 user=self.user)\n",
    "\n",
    "            if connection.is_connected():\n",
    "\n",
    "                print(\"Successfully connected to the database\")\n",
    "\n",
    "                cursor = connection.cursor()\n",
    "                query = query\n",
    "                cursor.execute(query)\n",
    "\n",
    "                data = cursor.fetchall()\n",
    "\n",
    "                df = pd.DataFrame(data, columns = ['date', 'tweet'])\n",
    "        except Error as e:\n",
    "            print(e)\n",
    "            \n",
    "        cursor.close()\n",
    "        connection.close()\n",
    "        \n",
    "        return df\n",
    "\n",
    "if __name__ == '__main__':\n",
    "    \n",
    "    t = ToPandasDF(config.PASSWORD, config.HOST, config.DATABASE, config.USER)\n",
    "    data = t.MySQLconnect(\"SELECT created_at, tweet FROM `twitterdb`.`twitter_table`;\")"
   ]
  },
  {
   "cell_type": "code",
   "execution_count": 4,
   "metadata": {},
   "outputs": [
    {
     "name": "stdout",
     "output_type": "stream",
     "text": [
      "(169, 2)\n"
     ]
    },
    {
     "data": {
      "text/html": [
       "<div>\n",
       "<style scoped>\n",
       "    .dataframe tbody tr th:only-of-type {\n",
       "        vertical-align: middle;\n",
       "    }\n",
       "\n",
       "    .dataframe tbody tr th {\n",
       "        vertical-align: top;\n",
       "    }\n",
       "\n",
       "    .dataframe thead th {\n",
       "        text-align: right;\n",
       "    }\n",
       "</style>\n",
       "<table border=\"1\" class=\"dataframe\">\n",
       "  <thead>\n",
       "    <tr style=\"text-align: right;\">\n",
       "      <th></th>\n",
       "      <th>date</th>\n",
       "      <th>tweet</th>\n",
       "    </tr>\n",
       "  </thead>\n",
       "  <tbody>\n",
       "    <tr>\n",
       "      <th>0</th>\n",
       "      <td>2022-07-04 16:51:41</td>\n",
       "      <td>RT @blogTO: Toronto Maple Leafs fans were just...</td>\n",
       "    </tr>\n",
       "    <tr>\n",
       "      <th>1</th>\n",
       "      <td>2022-07-04 16:52:23</td>\n",
       "      <td>I would love to show you my #listing at 9267 1...</td>\n",
       "    </tr>\n",
       "    <tr>\n",
       "      <th>2</th>\n",
       "      <td>2022-07-04 16:52:00</td>\n",
       "      <td>RT @BoardsByTaylor: Mini Charcuterie Boards! $...</td>\n",
       "    </tr>\n",
       "    <tr>\n",
       "      <th>3</th>\n",
       "      <td>2022-07-04 16:49:07</td>\n",
       "      <td>RT @elJEFEcoat44: Game day in the 6ix! \\n.\\n.\\...</td>\n",
       "    </tr>\n",
       "    <tr>\n",
       "      <th>4</th>\n",
       "      <td>2022-07-04 16:51:51</td>\n",
       "      <td>Home Decor Products :  https://t.co/V7TyGIcapR...</td>\n",
       "    </tr>\n",
       "  </tbody>\n",
       "</table>\n",
       "</div>"
      ],
      "text/plain": [
       "                  date                                              tweet\n",
       "0  2022-07-04 16:51:41  RT @blogTO: Toronto Maple Leafs fans were just...\n",
       "1  2022-07-04 16:52:23  I would love to show you my #listing at 9267 1...\n",
       "2  2022-07-04 16:52:00  RT @BoardsByTaylor: Mini Charcuterie Boards! $...\n",
       "3  2022-07-04 16:49:07  RT @elJEFEcoat44: Game day in the 6ix! \\n.\\n.\\...\n",
       "4  2022-07-04 16:51:51  Home Decor Products :  https://t.co/V7TyGIcapR..."
      ]
     },
     "execution_count": 4,
     "metadata": {},
     "output_type": "execute_result"
    }
   ],
   "source": [
    "print(data.shape)\n",
    "data.head()"
   ]
  },
  {
   "cell_type": "code",
   "execution_count": null,
   "metadata": {},
   "outputs": [],
   "source": []
  },
  {
   "cell_type": "code",
   "execution_count": null,
   "metadata": {},
   "outputs": [],
   "source": []
  },
  {
   "cell_type": "code",
   "execution_count": null,
   "metadata": {},
   "outputs": [],
   "source": []
  },
  {
   "cell_type": "code",
   "execution_count": null,
   "metadata": {},
   "outputs": [],
   "source": []
  },
  {
   "cell_type": "code",
   "execution_count": null,
   "metadata": {},
   "outputs": [],
   "source": []
  },
  {
   "cell_type": "code",
   "execution_count": null,
   "metadata": {},
   "outputs": [],
   "source": []
  },
  {
   "cell_type": "code",
   "execution_count": null,
   "metadata": {},
   "outputs": [],
   "source": []
  },
  {
   "cell_type": "code",
   "execution_count": null,
   "metadata": {},
   "outputs": [],
   "source": []
  },
  {
   "cell_type": "code",
   "execution_count": null,
   "metadata": {},
   "outputs": [],
   "source": []
  },
  {
   "cell_type": "code",
   "execution_count": null,
   "metadata": {},
   "outputs": [],
   "source": []
  },
  {
   "cell_type": "code",
   "execution_count": null,
   "metadata": {},
   "outputs": [],
   "source": []
  }
 ],
 "metadata": {
  "kernelspec": {
   "display_name": "Python 3 (ipykernel)",
   "language": "python",
   "name": "python3"
  },
  "language_info": {
   "codemirror_mode": {
    "name": "ipython",
    "version": 3
   },
   "file_extension": ".py",
   "mimetype": "text/x-python",
   "name": "python",
   "nbconvert_exporter": "python",
   "pygments_lexer": "ipython3",
   "version": "3.8.10"
  },
  "vscode": {
   "interpreter": {
    "hash": "57bde8c2063c6ae4e7657494adfd397e950713d1c2872f56a603256d47d70f92"
   }
  }
 },
 "nbformat": 4,
 "nbformat_minor": 2
}
